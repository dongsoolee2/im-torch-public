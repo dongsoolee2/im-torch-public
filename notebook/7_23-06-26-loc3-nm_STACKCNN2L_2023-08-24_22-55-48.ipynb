{
 "cells": [
  {
   "cell_type": "code",
   "execution_count": 14,
   "id": "50cab5f8-989a-4a61-bac8-ed1b1af6f96b",
   "metadata": {
    "tags": []
   },
   "outputs": [],
   "source": [
    "# import modules\n",
    "import sys\n",
    "import numpy as np\n",
    "import matplotlib.pyplot as plt\n",
    "import json\n",
    "import torch\n",
    "import torch.nn as nn\n",
    "import captum.attr"
   ]
  },
  {
   "cell_type": "code",
   "execution_count": 15,
   "id": "737df308-4bbf-47da-bab2-30deb4497229",
   "metadata": {
    "tags": []
   },
   "outputs": [
    {
     "name": "stdout",
     "output_type": "stream",
     "text": [
      "Python 3.11.4\n"
     ]
    },
    {
     "data": {
      "text/plain": [
       "('2.0.1', '0.6.0')"
      ]
     },
     "execution_count": 15,
     "metadata": {},
     "output_type": "execute_result"
    }
   ],
   "source": [
    "!python --version\n",
    "torch.__version__, captum.__version__"
   ]
  },
  {
   "cell_type": "code",
   "execution_count": 16,
   "id": "939cae7b-5d2b-49d3-8c35-a430e3c73f4d",
   "metadata": {
    "tags": []
   },
   "outputs": [],
   "source": [
    "# project directory\n",
    "if sys.platform == 'darwin':\n",
    "    home_dir = '/Users'\n",
    "    MAC0_OR_LINUX1 = 0\n",
    "else:\n",
    "    home_dir = '/home'\n",
    "    MAC0_OR_LINUX1 = 1\n",
    "proj_dir = home_dir + '/dlee/im-torch/'"
   ]
  },
  {
   "cell_type": "code",
   "execution_count": 17,
   "id": "707509b0-2e19-4cf8-a170-32cd5155f9a2",
   "metadata": {
    "tags": []
   },
   "outputs": [],
   "source": [
    "# directory\n",
    "train_dir = proj_dir + 'archive/' + '7_23-06-26-loc3-nm_STACKCNN2L_2023-08-24_22-55-48/'\n",
    "train_json_name = 'config_7_23-06-26-loc3-nm_STACKCNN2L_2023-08-24_22-55-48.json'\n",
    "train_pt_name = '7_23-06-26-loc3-nm_E013_0.073_2023-08-24_23-00-30.pt'"
   ]
  },
  {
   "cell_type": "code",
   "execution_count": 18,
   "id": "1e4c5a3d-46b2-4b7c-bda6-71a404f21b05",
   "metadata": {
    "tags": []
   },
   "outputs": [
    {
     "data": {
      "text/plain": [
       "dict_keys(['_MAC0_OR_LINUX1', '_X_te_shape', '_X_tr_shape', '_best_accuracy', '_cc_te_list', '_cc_tr_list', '_end_time', '_h5file_dir+name', '_idx_select', '_loss_fn', '_loss_tr_list', '_model', '_n_roi', '_note', '_num_batches', '_num_cells', '_optimizer', '_proj_dir', '_ptfile_name', '_save_dir', '_scheduler', '_start_time', '_tbins_te_first_10', '_tbins_tr_first_10', '_te_cc_val', '_torch_DEVICE', '_y_te_shape', '_y_tr_shape', 'batch_size', 'h5file', 'learning_rate', 'loss_fn', 'model', 'num_cells', 'num_epochs', 'num_frame_window', 'num_gpu', 'select_manual', 'select_mode', 'tbins_train_key', 'test_cc_key', 'test_resp_key', 'test_stim_key', 'test_tbins_key', 'train_resp_key', 'train_stim_key'])"
      ]
     },
     "execution_count": 18,
     "metadata": {},
     "output_type": "execute_result"
    }
   ],
   "source": [
    "# load config.json\n",
    "with open(train_dir + train_json_name, 'r') as js:\n",
    "    p = json.load(js)\n",
    "p.keys()"
   ]
  },
  {
   "cell_type": "code",
   "execution_count": 384,
   "id": "2dca6ff8-98b9-4ad0-8871-03180c229285",
   "metadata": {
    "tags": []
   },
   "outputs": [],
   "source": [
    "# device \n",
    "if MAC0_OR_LINUX1:\n",
    "    num_gpu = p['num_gpu']\n",
    "    DEVICE = torch.device('cuda:' + str(num_gpu) if torch.cuda.is_available() else 'cpu')\n",
    "else:\n",
    "    DEVICE = torch.device('mps' if torch.has_mps else 'cpu')\n",
    "    #!export PYTORCH_MPS_HIGH_WATERMARK_RATIO=0.0"
   ]
  },
  {
   "cell_type": "code",
   "execution_count": 20,
   "id": "3f14f159-0d39-488c-8127-221735c3dc10",
   "metadata": {
    "tags": []
   },
   "outputs": [],
   "source": [
    "# load model\n",
    "sys.path.append(train_dir)\n",
    "from models import *"
   ]
  },
  {
   "cell_type": "code",
   "execution_count": 21,
   "id": "62c95afc-3dc3-47cc-8ee5-861bb4c05658",
   "metadata": {
    "tags": []
   },
   "outputs": [
    {
     "data": {
      "text/plain": [
       "STACKCNN2L(\n",
       "  (conv11): Conv2d(40, 8, kernel_size=(5, 5), stride=(1, 1))\n",
       "  (conv12): Conv2d(8, 8, kernel_size=(5, 5), stride=(1, 1), groups=8)\n",
       "  (conv13): Conv2d(8, 8, kernel_size=(5, 5), stride=(1, 1), groups=8)\n",
       "  (conv14): Conv2d(8, 8, kernel_size=(5, 5), stride=(1, 1), groups=8)\n",
       "  (nonlinear1): Softplus(beta=1, threshold=20)\n",
       "  (conv2): Conv2d(8, 283, kernel_size=(16, 16), stride=(1, 1))\n",
       "  (nonlinear2): Softplus(beta=1, threshold=20)\n",
       ")"
      ]
     },
     "execution_count": 21,
     "metadata": {},
     "output_type": "execute_result"
    }
   ],
   "source": [
    "model = vars()[p['model']](out=p['_num_cells'])\n",
    "model.load_state_dict(torch.load(train_dir + train_pt_name))\n",
    "#model.eval().to(DEVICE)\n",
    "model.eval()\n",
    "model"
   ]
  },
  {
   "cell_type": "code",
   "execution_count": 385,
   "id": "19e88e16-4eba-4eea-8fb8-441b64c2d039",
   "metadata": {
    "tags": []
   },
   "outputs": [
    {
     "data": {
      "text/plain": [
       "device(type='cpu')"
      ]
     },
     "execution_count": 385,
     "metadata": {},
     "output_type": "execute_result"
    }
   ],
   "source": [
    "next(model.parameters()).device"
   ]
  },
  {
   "cell_type": "code",
   "execution_count": 23,
   "id": "364e604d-a47b-42bd-be8d-44cce67d451c",
   "metadata": {
    "tags": []
   },
   "outputs": [
    {
     "name": "stdout",
     "output_type": "stream",
     "text": [
      "conv11.weight \t torch.Size([8, 40, 5, 5])\n",
      "conv11.bias \t torch.Size([8])\n",
      "conv12.weight \t torch.Size([8, 1, 5, 5])\n",
      "conv12.bias \t torch.Size([8])\n",
      "conv13.weight \t torch.Size([8, 1, 5, 5])\n",
      "conv13.bias \t torch.Size([8])\n",
      "conv14.weight \t torch.Size([8, 1, 5, 5])\n",
      "conv14.bias \t torch.Size([8])\n",
      "conv2.weight \t torch.Size([283, 8, 16, 16])\n",
      "conv2.bias \t torch.Size([283])\n"
     ]
    }
   ],
   "source": [
    "for param in model.state_dict().keys():\n",
    "    print(param, '\\t', model.state_dict()[param].size())"
   ]
  },
  {
   "cell_type": "code",
   "execution_count": 24,
   "id": "ae8dbe46-61dd-413f-960b-05f44eb74f98",
   "metadata": {
    "tags": []
   },
   "outputs": [],
   "source": [
    "#c2 = model.state_dict()['conv2.weight'].detach().cpu().numpy()\n",
    "#c2.shape"
   ]
  },
  {
   "cell_type": "code",
   "execution_count": 218,
   "id": "79c3f9c9-ac2c-41b4-abaa-c147599083e6",
   "metadata": {
    "tags": []
   },
   "outputs": [],
   "source": [
    "torch.manual_seed(0)\n",
    "np.random.seed(0)\n",
    "input = torch.Tensor(2*(torch.rand(20, 40, 32, 32) - 0.5))\n",
    "baseline = torch.Tensor(torch.rand(20, 40, 32, 32))          #####################"
   ]
  },
  {
   "cell_type": "code",
   "execution_count": 368,
   "id": "1f6863ae-39df-4391-9758-30f7b08444ec",
   "metadata": {
    "tags": []
   },
   "outputs": [],
   "source": [
    "ig = captum.attr.IntegratedGradients(model)\n",
    "attr = ig.attribute(input, baseline, target=255)             #####################"
   ]
  },
  {
   "cell_type": "code",
   "execution_count": 369,
   "id": "1490fcb5-b792-4c69-ac4c-2018a6b85105",
   "metadata": {
    "tags": []
   },
   "outputs": [
    {
     "data": {
      "text/plain": [
       "torch.Size([20, 40, 32, 32])"
      ]
     },
     "execution_count": 369,
     "metadata": {},
     "output_type": "execute_result"
    }
   ],
   "source": [
    "attr.shape"
   ]
  },
  {
   "cell_type": "code",
   "execution_count": 370,
   "id": "f4647627-8cc2-48bc-8aaf-1cc8fe53a796",
   "metadata": {
    "tags": []
   },
   "outputs": [
    {
     "data": {
      "text/plain": [
       "tensor(-0.0057, dtype=torch.float64)"
      ]
     },
     "execution_count": 370,
     "metadata": {},
     "output_type": "execute_result"
    }
   ],
   "source": [
    "attr.min()"
   ]
  },
  {
   "cell_type": "code",
   "execution_count": 379,
   "id": "4c5aa513-30fe-42c4-8956-5e35e603e8ee",
   "metadata": {
    "tags": []
   },
   "outputs": [
    {
     "data": {
      "text/plain": [
       "<matplotlib.image.AxesImage at 0x305994290>"
      ]
     },
     "execution_count": 379,
     "metadata": {},
     "output_type": "execute_result"
    },
    {
     "data": {
      "image/png": "[encoded data removed]",
      "text/plain": [
       "<Figure size 640x480 with 1 Axes>"
      ]
     },
     "metadata": {},
     "output_type": "display_data"
    }
   ],
   "source": [
    "plt.imshow(torch.mean(attr,0)[4], cmap='seismic', vmin=-0.001, vmax=0.001)"
   ]
  },
  {
   "cell_type": "code",
   "execution_count": 373,
   "id": "47cb17a0-9751-43c9-9068-8ebf59ac51f8",
   "metadata": {
    "tags": []
   },
   "outputs": [
    {
     "data": {
      "text/plain": [
       "<matplotlib.image.AxesImage at 0x302133fd0>"
      ]
     },
     "execution_count": 373,
     "metadata": {},
     "output_type": "execute_result"
    },
    {
     "data": {
      "image/png": "[encoded data removed]",
      "text/plain": [
       "<Figure size 640x480 with 1 Axes>"
      ]
     },
     "metadata": {},
     "output_type": "display_data"
    }
   ],
   "source": [
    "plt.imshow(torch.mean(attr,(0, 1)), cmap='seismic', vmin=-0.001, vmax=0.001)"
   ]
  },
  {
   "cell_type": "code",
   "execution_count": 381,
   "id": "240f8e2f-3310-41d4-b6f4-1695428ba827",
   "metadata": {
    "tags": []
   },
   "outputs": [
    {
     "data": {
      "text/plain": [
       "<matplotlib.image.AxesImage at 0x305a61090>"
      ]
     },
     "execution_count": 381,
     "metadata": {},
     "output_type": "execute_result"
    },
    {
     "data": {
      "image/png": "[encoded data removed]",
      "text/plain": [
       "<Figure size 640x480 with 1 Axes>"
      ]
     },
     "metadata": {},
     "output_type": "display_data"
    }
   ],
   "source": [
    "plt.imshow(torch.mean(torch.mean(attr,0), 1)[:, :])"
   ]
  },
  {
   "cell_type": "code",
   "execution_count": 232,
   "id": "197a083e-0c20-43ba-a72b-a41f5f84e6b1",
   "metadata": {
    "tags": []
   },
   "outputs": [
    {
     "data": {
      "text/plain": [
       "\u001b[0;31mSignature:\u001b[0m\n",
       "\u001b[0mig\u001b[0m\u001b[0;34m.\u001b[0m\u001b[0mattribute\u001b[0m\u001b[0;34m(\u001b[0m\u001b[0;34m\u001b[0m\n",
       "\u001b[0;34m\u001b[0m    \u001b[0minputs\u001b[0m\u001b[0;34m:\u001b[0m \u001b[0;34m~\u001b[0m\u001b[0mTensorOrTupleOfTensorsGeneric\u001b[0m\u001b[0;34m,\u001b[0m\u001b[0;34m\u001b[0m\n",
       "\u001b[0;34m\u001b[0m    \u001b[0mbaselines\u001b[0m\u001b[0;34m:\u001b[0m \u001b[0mUnion\u001b[0m\u001b[0;34m[\u001b[0m\u001b[0mNoneType\u001b[0m\u001b[0;34m,\u001b[0m \u001b[0mtorch\u001b[0m\u001b[0;34m.\u001b[0m\u001b[0mTensor\u001b[0m\u001b[0;34m,\u001b[0m \u001b[0mint\u001b[0m\u001b[0;34m,\u001b[0m \u001b[0mfloat\u001b[0m\u001b[0;34m,\u001b[0m \u001b[0mTuple\u001b[0m\u001b[0;34m[\u001b[0m\u001b[0mUnion\u001b[0m\u001b[0;34m[\u001b[0m\u001b[0mtorch\u001b[0m\u001b[0;34m.\u001b[0m\u001b[0mTensor\u001b[0m\u001b[0;34m,\u001b[0m \u001b[0mint\u001b[0m\u001b[0;34m,\u001b[0m \u001b[0mfloat\u001b[0m\u001b[0;34m]\u001b[0m\u001b[0;34m,\u001b[0m \u001b[0;34m...\u001b[0m\u001b[0;34m]\u001b[0m\u001b[0;34m]\u001b[0m \u001b[0;34m=\u001b[0m \u001b[0;32mNone\u001b[0m\u001b[0;34m,\u001b[0m\u001b[0;34m\u001b[0m\n",
       "\u001b[0;34m\u001b[0m    \u001b[0mtarget\u001b[0m\u001b[0;34m:\u001b[0m \u001b[0mUnion\u001b[0m\u001b[0;34m[\u001b[0m\u001b[0mNoneType\u001b[0m\u001b[0;34m,\u001b[0m \u001b[0mint\u001b[0m\u001b[0;34m,\u001b[0m \u001b[0mTuple\u001b[0m\u001b[0;34m[\u001b[0m\u001b[0mint\u001b[0m\u001b[0;34m,\u001b[0m \u001b[0;34m...\u001b[0m\u001b[0;34m]\u001b[0m\u001b[0;34m,\u001b[0m \u001b[0mtorch\u001b[0m\u001b[0;34m.\u001b[0m\u001b[0mTensor\u001b[0m\u001b[0;34m,\u001b[0m \u001b[0mList\u001b[0m\u001b[0;34m[\u001b[0m\u001b[0mTuple\u001b[0m\u001b[0;34m[\u001b[0m\u001b[0mint\u001b[0m\u001b[0;34m,\u001b[0m \u001b[0;34m...\u001b[0m\u001b[0;34m]\u001b[0m\u001b[0;34m]\u001b[0m\u001b[0;34m,\u001b[0m \u001b[0mList\u001b[0m\u001b[0;34m[\u001b[0m\u001b[0mint\u001b[0m\u001b[0;34m]\u001b[0m\u001b[0;34m]\u001b[0m \u001b[0;34m=\u001b[0m \u001b[0;32mNone\u001b[0m\u001b[0;34m,\u001b[0m\u001b[0;34m\u001b[0m\n",
       "\u001b[0;34m\u001b[0m    \u001b[0madditional_forward_args\u001b[0m\u001b[0;34m:\u001b[0m \u001b[0mAny\u001b[0m \u001b[0;34m=\u001b[0m \u001b[0;32mNone\u001b[0m\u001b[0;34m,\u001b[0m\u001b[0;34m\u001b[0m\n",
       "\u001b[0;34m\u001b[0m    \u001b[0mn_steps\u001b[0m\u001b[0;34m:\u001b[0m \u001b[0mint\u001b[0m \u001b[0;34m=\u001b[0m \u001b[0;36m50\u001b[0m\u001b[0;34m,\u001b[0m\u001b[0;34m\u001b[0m\n",
       "\u001b[0;34m\u001b[0m    \u001b[0mmethod\u001b[0m\u001b[0;34m:\u001b[0m \u001b[0mstr\u001b[0m \u001b[0;34m=\u001b[0m \u001b[0;34m'gausslegendre'\u001b[0m\u001b[0;34m,\u001b[0m\u001b[0;34m\u001b[0m\n",
       "\u001b[0;34m\u001b[0m    \u001b[0minternal_batch_size\u001b[0m\u001b[0;34m:\u001b[0m \u001b[0mOptional\u001b[0m\u001b[0;34m[\u001b[0m\u001b[0mint\u001b[0m\u001b[0;34m]\u001b[0m \u001b[0;34m=\u001b[0m \u001b[0;32mNone\u001b[0m\u001b[0;34m,\u001b[0m\u001b[0;34m\u001b[0m\n",
       "\u001b[0;34m\u001b[0m    \u001b[0mreturn_convergence_delta\u001b[0m\u001b[0;34m:\u001b[0m \u001b[0mbool\u001b[0m \u001b[0;34m=\u001b[0m \u001b[0;32mFalse\u001b[0m\u001b[0;34m,\u001b[0m\u001b[0;34m\u001b[0m\n",
       "\u001b[0;34m\u001b[0m\u001b[0;34m)\u001b[0m \u001b[0;34m->\u001b[0m \u001b[0mUnion\u001b[0m\u001b[0;34m[\u001b[0m\u001b[0;34m~\u001b[0m\u001b[0mTensorOrTupleOfTensorsGeneric\u001b[0m\u001b[0;34m,\u001b[0m \u001b[0mTuple\u001b[0m\u001b[0;34m[\u001b[0m\u001b[0;34m~\u001b[0m\u001b[0mTensorOrTupleOfTensorsGeneric\u001b[0m\u001b[0;34m,\u001b[0m \u001b[0mtorch\u001b[0m\u001b[0;34m.\u001b[0m\u001b[0mTensor\u001b[0m\u001b[0;34m]\u001b[0m\u001b[0;34m]\u001b[0m\u001b[0;34m\u001b[0m\u001b[0;34m\u001b[0m\u001b[0m\n",
       "\u001b[0;31mDocstring:\u001b[0m\n",
       "This method attributes the output of the model with given target index\n",
       "(in case it is provided, otherwise it assumes that output is a\n",
       "scalar) to the inputs of the model using the approach described above.\n",
       "\n",
       "In addition to that it also returns, if `return_convergence_delta` is\n",
       "set to True, integral approximation delta based on the completeness\n",
       "property of integrated gradients.\n",
       "\n",
       "Args:\n",
       "\n",
       "    inputs (Tensor or tuple[Tensor, ...]): Input for which integrated\n",
       "                gradients are computed. If forward_func takes a single\n",
       "                tensor as input, a single input tensor should be provided.\n",
       "                If forward_func takes multiple tensors as input, a tuple\n",
       "                of the input tensors should be provided. It is assumed\n",
       "                that for all given input tensors, dimension 0 corresponds\n",
       "                to the number of examples, and if multiple input tensors\n",
       "                are provided, the examples must be aligned appropriately.\n",
       "    baselines (scalar, Tensor, tuple of scalar, or Tensor, optional):\n",
       "                Baselines define the starting point from which integral\n",
       "                is computed and can be provided as:\n",
       "\n",
       "                - a single tensor, if inputs is a single tensor, with\n",
       "                  exactly the same dimensions as inputs or the first\n",
       "                  dimension is one and the remaining dimensions match\n",
       "                  with inputs.\n",
       "\n",
       "                - a single scalar, if inputs is a single tensor, which will\n",
       "                  be broadcasted for each input value in input tensor.\n",
       "\n",
       "                - a tuple of tensors or scalars, the baseline corresponding\n",
       "                  to each tensor in the inputs' tuple can be:\n",
       "\n",
       "                  - either a tensor with matching dimensions to\n",
       "                    corresponding tensor in the inputs' tuple\n",
       "                    or the first dimension is one and the remaining\n",
       "                    dimensions match with the corresponding\n",
       "                    input tensor.\n",
       "\n",
       "                  - or a scalar, corresponding to a tensor in the\n",
       "                    inputs' tuple. This scalar value is broadcasted\n",
       "                    for corresponding input tensor.\n",
       "\n",
       "                In the cases when `baselines` is not provided, we internally\n",
       "                use zero scalar corresponding to each input tensor.\n",
       "\n",
       "                Default: None\n",
       "    target (int, tuple, Tensor, or list, optional): Output indices for\n",
       "                which gradients are computed (for classification cases,\n",
       "                this is usually the target class).\n",
       "                If the network returns a scalar value per example,\n",
       "                no target index is necessary.\n",
       "                For general 2D outputs, targets can be either:\n",
       "\n",
       "                - a single integer or a tensor containing a single\n",
       "                  integer, which is applied to all input examples\n",
       "\n",
       "                - a list of integers or a 1D tensor, with length matching\n",
       "                  the number of examples in inputs (dim 0). Each integer\n",
       "                  is applied as the target for the corresponding example.\n",
       "\n",
       "                For outputs with > 2 dimensions, targets can be either:\n",
       "\n",
       "                - A single tuple, which contains #output_dims - 1\n",
       "                  elements. This target index is applied to all examples.\n",
       "\n",
       "                - A list of tuples with length equal to the number of\n",
       "                  examples in inputs (dim 0), and each tuple containing\n",
       "                  #output_dims - 1 elements. Each tuple is applied as the\n",
       "                  target for the corresponding example.\n",
       "\n",
       "                Default: None\n",
       "    additional_forward_args (Any, optional): If the forward function\n",
       "                requires additional arguments other than the inputs for\n",
       "                which attributions should not be computed, this argument\n",
       "                can be provided. It must be either a single additional\n",
       "                argument of a Tensor or arbitrary (non-tuple) type or a\n",
       "                tuple containing multiple additional arguments including\n",
       "                tensors or any arbitrary python types. These arguments\n",
       "                are provided to forward_func in order following the\n",
       "                arguments in inputs.\n",
       "                For a tensor, the first dimension of the tensor must\n",
       "                correspond to the number of examples. It will be\n",
       "                repeated for each of `n_steps` along the integrated\n",
       "                path. For all other types, the given argument is used\n",
       "                for all forward evaluations.\n",
       "                Note that attributions are not computed with respect\n",
       "                to these arguments.\n",
       "                Default: None\n",
       "    n_steps (int, optional): The number of steps used by the approximation\n",
       "                method. Default: 50.\n",
       "    method (str, optional): Method for approximating the integral,\n",
       "                one of `riemann_right`, `riemann_left`, `riemann_middle`,\n",
       "                `riemann_trapezoid` or `gausslegendre`.\n",
       "                Default: `gausslegendre` if no method is provided.\n",
       "    internal_batch_size (int, optional): Divides total #steps * #examples\n",
       "                data points into chunks of size at most internal_batch_size,\n",
       "                which are computed (forward / backward passes)\n",
       "                sequentially. internal_batch_size must be at least equal to\n",
       "                #examples.\n",
       "                For DataParallel models, each batch is split among the\n",
       "                available devices, so evaluations on each available\n",
       "                device contain internal_batch_size / num_devices examples.\n",
       "                If internal_batch_size is None, then all evaluations are\n",
       "                processed in one batch.\n",
       "                Default: None\n",
       "    return_convergence_delta (bool, optional): Indicates whether to return\n",
       "            convergence delta or not. If `return_convergence_delta`\n",
       "            is set to True convergence delta will be returned in\n",
       "            a tuple following attributions.\n",
       "            Default: False\n",
       "Returns:\n",
       "    **attributions** or 2-element tuple of **attributions**, **delta**:\n",
       "    - **attributions** (*Tensor* or *tuple[Tensor, ...]*):\n",
       "            Integrated gradients with respect to each input feature.\n",
       "            attributions will always be the same size as the provided\n",
       "            inputs, with each value providing the attribution of the\n",
       "            corresponding input index.\n",
       "            If a single tensor is provided as inputs, a single tensor is\n",
       "            returned. If a tuple is provided for inputs, a tuple of\n",
       "            corresponding sized tensors is returned.\n",
       "    - **delta** (*Tensor*, returned if return_convergence_delta=True):\n",
       "            The difference between the total approximated and true\n",
       "            integrated gradients. This is computed using the property\n",
       "            that the total sum of forward_func(inputs) -\n",
       "            forward_func(baselines) must equal the total sum of the\n",
       "            integrated gradient.\n",
       "            Delta is calculated per example, meaning that the number of\n",
       "            elements in returned delta tensor is equal to the number of\n",
       "            examples in inputs.\n",
       "\n",
       "Examples::\n",
       "\n",
       "    >>> # ImageClassifier takes a single input tensor of images Nx3x32x32,\n",
       "    >>> # and returns an Nx10 tensor of class probabilities.\n",
       "    >>> net = ImageClassifier()\n",
       "    >>> ig = IntegratedGradients(net)\n",
       "    >>> input = torch.randn(2, 3, 32, 32, requires_grad=True)\n",
       "    >>> # Computes integrated gradients for class 3.\n",
       "    >>> attribution = ig.attribute(input, target=3)\n",
       "\u001b[0;31mFile:\u001b[0m      /opt/homebrew/Caskroom/miniforge/base/envs/im-torch/lib/python3.11/site-packages/captum/attr/_core/integrated_gradients.py\n",
       "\u001b[0;31mType:\u001b[0m      method"
      ]
     },
     "metadata": {},
     "output_type": "display_data"
    }
   ],
   "source": [
    "ig.attribute?"
   ]
  },
  {
   "cell_type": "code",
   "execution_count": null,
   "id": "35be0174-f72a-4385-b0f6-33c83295e4e2",
   "metadata": {},
   "outputs": [],
   "source": []
  }
 ],
 "metadata": {
  "kernelspec": {
   "display_name": "Python 3 (ipykernel)",
   "language": "python",
   "name": "python3"
  },
  "language_info": {
   "codemirror_mode": {
    "name": "ipython",
    "version": 3
   },
   "file_extension": ".py",
   "mimetype": "text/x-python",
   "name": "python",
   "nbconvert_exporter": "python",
   "pygments_lexer": "ipython3",
   "version": "3.11.4"
  }
 },
 "nbformat": 4,
 "nbformat_minor": 5
}
